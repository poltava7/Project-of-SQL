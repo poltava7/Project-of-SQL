{
 "cells": [
  {
   "cell_type": "markdown",
   "metadata": {},
   "source": [
    "# «SQL – Анализ базы данных сервиса для чтения книг по подписке»\n",
    "**Описание проекта**<br>\n",
    "Коронавирус застал мир врасплох, изменив привычный порядок вещей. В свободное время жители городов больше не выходят на улицу, не посещают кафе и торговые центры. Зато стало больше времени для книг. Это заметили стартаперы — и бросились создавать приложения для тех, кто любит читать.<br>\n",
    "<br>\n",
    "Компания решила быть на волне и купила крупный сервис для чтения книг по подписке.\n",
    "<br>\n",
    "Цели проекта: проанализировать базу данных. В базе данных информация о книгах, издательствах, авторах, а также пользовательские обзоры книг. Эти данные помогут сформулировать ценностное предложение для нового продукта.\n",
    "\n",
    "**Описание данных**\n",
    "\n",
    "***Таблица `books`***\n",
    "\n",
    "Содержит данные о книгах:\n",
    "\n",
    "- `book_id` — идентификатор книги;\n",
    "- `author_id` — идентификатор автора;\n",
    "- `title` — название книги;\n",
    "- `num_pages` — количество страниц;\n",
    "- `publication_date` — дата публикации книги;\n",
    "- `publisher_id` — идентификатор издателя.\n",
    "\n",
    "***Таблица `authors`***\n",
    "\n",
    "Содержит данные об авторах:\n",
    "\n",
    "- `author_id` — идентификатор автора;\n",
    "- `author` — имя автора.\n",
    "\n",
    "***Таблица `publishers`***\n",
    "\n",
    "Содержит данные об издательствах:\n",
    "\n",
    "- `publisher_id` — идентификатор издательства;\n",
    "- `publisher` — название издательства;\n",
    "\n",
    "***Таблица `ratings`***\n",
    "\n",
    "Содержит данные о пользовательских оценках книг:\n",
    "\n",
    "- `rating_id` — идентификатор оценки;\n",
    "- `book_id` — идентификатор книги;\n",
    "- `username` — имя пользователя, оставившего оценку;\n",
    "- `rating` — оценка книги.\n",
    "\n",
    "***Таблица `reviews`***\n",
    "\n",
    "Содержит данные о пользовательских обзорах на книги:\n",
    "\n",
    "- `review_id` — идентификатор обзора;\n",
    "- `book_id` — идентификатор книги;\n",
    "- `username` — имя пользователя, написавшего обзор;\n",
    "- `text` — текст обзора.\n",
    "\n",
    "\n",
    "# План выполнения задания\n",
    "1. Загрузить библиотеки, создать коннект к базе данных\n",
    "1. Выполнить исследовательский анализ данных\n",
    "   - Посчитать, сколько книг вышло после 1 января 2000 года;\n",
    "   - Для каждой книги посчитайте количество обзоров и среднюю оценку;\n",
    "   - Определить издательство, которое выпустило наибольшее число книг толще 50 страниц — так мы исключим из анализа брошюры;\n",
    "   - Определить автора с самой высокой средней оценкой книг — учитывая только книги с 50 и более оценками;\n",
    "   - Посчитать среднее количество обзоров от пользователей, которые поставили больше 48 оценок.\n",
    "3. Общий вывод"
   ]
  },
  {
   "cell_type": "markdown",
   "metadata": {},
   "source": [
    "## Импортируем библиотеки, посмотрим на данные"
   ]
  },
  {
   "cell_type": "code",
   "execution_count": 1,
   "metadata": {},
   "outputs": [],
   "source": [
    "import pandas as pd\n",
    "from sqlalchemy import text, create_engine\n",
    "from datetime import datetime"
   ]
  },
  {
   "cell_type": "code",
   "execution_count": 2,
   "metadata": {},
   "outputs": [],
   "source": [
    "# устанавливаем параметры\n",
    "db_config = {'user': 'praktikum_student', # имя пользователя\n",
    "'pwd': 'Sdf4$2;d-d30pp', # пароль\n",
    "'host': 'rc1b-wcoijxj3yxfsf3fs.mdb.yandexcloud.net',\n",
    "'port': 6432, # порт подключения\n",
    "'db': 'data-analyst-final-project-db'} # название базы данных\n",
    "connection_string = 'postgresql://{user}:{pwd}@{host}:{port}/{db}'.format(**db_config)\n",
    "\n",
    "# сохраняем коннектор\n",
    "engine = create_engine(connection_string, connect_args={'sslmode':'require'})\n",
    "\n",
    "con=engine.connect()"
   ]
  },
  {
   "cell_type": "code",
   "execution_count": 3,
   "metadata": {},
   "outputs": [],
   "source": [
    "# создадим функцию для выполнения запроса\n",
    "def select(request):\n",
    "    return pd.io.sql.read_sql(request, con = engine)"
   ]
  },
  {
   "cell_type": "code",
   "execution_count": 4,
   "metadata": {},
   "outputs": [],
   "source": [
    "#Напишем простую функцию для просмотра информации\n",
    "def information(data):\n",
    "    display(select(data).head(5))\n",
    "    select(data).info()\n",
    "    print('Количество дубликатов:',select(data).duplicated().sum())\n",
    "    print(\"Количество Пропусков в столбцах:\\n\", select(data).isna().sum())"
   ]
  },
  {
   "cell_type": "code",
   "execution_count": 5,
   "metadata": {},
   "outputs": [
    {
     "data": {
      "text/html": [
       "<div>\n",
       "<style scoped>\n",
       "    .dataframe tbody tr th:only-of-type {\n",
       "        vertical-align: middle;\n",
       "    }\n",
       "\n",
       "    .dataframe tbody tr th {\n",
       "        vertical-align: top;\n",
       "    }\n",
       "\n",
       "    .dataframe thead th {\n",
       "        text-align: right;\n",
       "    }\n",
       "</style>\n",
       "<table border=\"1\" class=\"dataframe\">\n",
       "  <thead>\n",
       "    <tr style=\"text-align: right;\">\n",
       "      <th></th>\n",
       "      <th>book_id</th>\n",
       "      <th>author_id</th>\n",
       "      <th>title</th>\n",
       "      <th>num_pages</th>\n",
       "      <th>publication_date</th>\n",
       "      <th>publisher_id</th>\n",
       "    </tr>\n",
       "  </thead>\n",
       "  <tbody>\n",
       "    <tr>\n",
       "      <th>0</th>\n",
       "      <td>1</td>\n",
       "      <td>546</td>\n",
       "      <td>'Salem's Lot</td>\n",
       "      <td>594</td>\n",
       "      <td>2005-11-01</td>\n",
       "      <td>93</td>\n",
       "    </tr>\n",
       "    <tr>\n",
       "      <th>1</th>\n",
       "      <td>2</td>\n",
       "      <td>465</td>\n",
       "      <td>1 000 Places to See Before You Die</td>\n",
       "      <td>992</td>\n",
       "      <td>2003-05-22</td>\n",
       "      <td>336</td>\n",
       "    </tr>\n",
       "    <tr>\n",
       "      <th>2</th>\n",
       "      <td>3</td>\n",
       "      <td>407</td>\n",
       "      <td>13 Little Blue Envelopes (Little Blue Envelope...</td>\n",
       "      <td>322</td>\n",
       "      <td>2010-12-21</td>\n",
       "      <td>135</td>\n",
       "    </tr>\n",
       "    <tr>\n",
       "      <th>3</th>\n",
       "      <td>4</td>\n",
       "      <td>82</td>\n",
       "      <td>1491: New Revelations of the Americas Before C...</td>\n",
       "      <td>541</td>\n",
       "      <td>2006-10-10</td>\n",
       "      <td>309</td>\n",
       "    </tr>\n",
       "    <tr>\n",
       "      <th>4</th>\n",
       "      <td>5</td>\n",
       "      <td>125</td>\n",
       "      <td>1776</td>\n",
       "      <td>386</td>\n",
       "      <td>2006-07-04</td>\n",
       "      <td>268</td>\n",
       "    </tr>\n",
       "    <tr>\n",
       "      <th>...</th>\n",
       "      <td>...</td>\n",
       "      <td>...</td>\n",
       "      <td>...</td>\n",
       "      <td>...</td>\n",
       "      <td>...</td>\n",
       "      <td>...</td>\n",
       "    </tr>\n",
       "    <tr>\n",
       "      <th>995</th>\n",
       "      <td>996</td>\n",
       "      <td>571</td>\n",
       "      <td>Wyrd Sisters (Discworld  #6; Witches #2)</td>\n",
       "      <td>265</td>\n",
       "      <td>2001-02-06</td>\n",
       "      <td>147</td>\n",
       "    </tr>\n",
       "    <tr>\n",
       "      <th>996</th>\n",
       "      <td>997</td>\n",
       "      <td>454</td>\n",
       "      <td>Xenocide (Ender's Saga  #3)</td>\n",
       "      <td>592</td>\n",
       "      <td>1996-07-15</td>\n",
       "      <td>297</td>\n",
       "    </tr>\n",
       "    <tr>\n",
       "      <th>997</th>\n",
       "      <td>998</td>\n",
       "      <td>201</td>\n",
       "      <td>Year of Wonders</td>\n",
       "      <td>358</td>\n",
       "      <td>2002-04-30</td>\n",
       "      <td>212</td>\n",
       "    </tr>\n",
       "    <tr>\n",
       "      <th>998</th>\n",
       "      <td>999</td>\n",
       "      <td>94</td>\n",
       "      <td>You Suck (A Love Story  #2)</td>\n",
       "      <td>328</td>\n",
       "      <td>2007-01-16</td>\n",
       "      <td>331</td>\n",
       "    </tr>\n",
       "    <tr>\n",
       "      <th>999</th>\n",
       "      <td>1000</td>\n",
       "      <td>509</td>\n",
       "      <td>Zen and the Art of Motorcycle Maintenance: An ...</td>\n",
       "      <td>540</td>\n",
       "      <td>2006-04-25</td>\n",
       "      <td>143</td>\n",
       "    </tr>\n",
       "  </tbody>\n",
       "</table>\n",
       "<p>1000 rows × 6 columns</p>\n",
       "</div>"
      ],
      "text/plain": [
       "     book_id  author_id                                              title  \\\n",
       "0          1        546                                       'Salem's Lot   \n",
       "1          2        465                 1 000 Places to See Before You Die   \n",
       "2          3        407  13 Little Blue Envelopes (Little Blue Envelope...   \n",
       "3          4         82  1491: New Revelations of the Americas Before C...   \n",
       "4          5        125                                               1776   \n",
       "..       ...        ...                                                ...   \n",
       "995      996        571           Wyrd Sisters (Discworld  #6; Witches #2)   \n",
       "996      997        454                        Xenocide (Ender's Saga  #3)   \n",
       "997      998        201                                    Year of Wonders   \n",
       "998      999         94                        You Suck (A Love Story  #2)   \n",
       "999     1000        509  Zen and the Art of Motorcycle Maintenance: An ...   \n",
       "\n",
       "     num_pages publication_date  publisher_id  \n",
       "0          594       2005-11-01            93  \n",
       "1          992       2003-05-22           336  \n",
       "2          322       2010-12-21           135  \n",
       "3          541       2006-10-10           309  \n",
       "4          386       2006-07-04           268  \n",
       "..         ...              ...           ...  \n",
       "995        265       2001-02-06           147  \n",
       "996        592       1996-07-15           297  \n",
       "997        358       2002-04-30           212  \n",
       "998        328       2007-01-16           331  \n",
       "999        540       2006-04-25           143  \n",
       "\n",
       "[1000 rows x 6 columns]"
      ]
     },
     "execution_count": 5,
     "metadata": {},
     "output_type": "execute_result"
    }
   ],
   "source": [
    "books = '''\n",
    "SELECT * FROM books\n",
    "'''\n",
    "select(books)"
   ]
  },
  {
   "cell_type": "code",
   "execution_count": 6,
   "metadata": {},
   "outputs": [],
   "source": [
    "authors = '''\n",
    "SELECT * FROM authors\n",
    "'''"
   ]
  },
  {
   "cell_type": "code",
   "execution_count": 7,
   "metadata": {},
   "outputs": [],
   "source": [
    "publishers = '''\n",
    "SELECT * FROM publishers\n",
    "'''"
   ]
  },
  {
   "cell_type": "code",
   "execution_count": 8,
   "metadata": {},
   "outputs": [],
   "source": [
    "ratings = '''\n",
    "SELECT * FROM ratings\n",
    "'''"
   ]
  },
  {
   "cell_type": "code",
   "execution_count": 9,
   "metadata": {},
   "outputs": [],
   "source": [
    "reviews = '''\n",
    "SELECT * FROM reviews\n",
    "'''"
   ]
  },
  {
   "cell_type": "code",
   "execution_count": 10,
   "metadata": {},
   "outputs": [
    {
     "data": {
      "text/html": [
       "<div>\n",
       "<style scoped>\n",
       "    .dataframe tbody tr th:only-of-type {\n",
       "        vertical-align: middle;\n",
       "    }\n",
       "\n",
       "    .dataframe tbody tr th {\n",
       "        vertical-align: top;\n",
       "    }\n",
       "\n",
       "    .dataframe thead th {\n",
       "        text-align: right;\n",
       "    }\n",
       "</style>\n",
       "<table border=\"1\" class=\"dataframe\">\n",
       "  <thead>\n",
       "    <tr style=\"text-align: right;\">\n",
       "      <th></th>\n",
       "      <th>book_id</th>\n",
       "      <th>author_id</th>\n",
       "      <th>title</th>\n",
       "      <th>num_pages</th>\n",
       "      <th>publication_date</th>\n",
       "      <th>publisher_id</th>\n",
       "    </tr>\n",
       "  </thead>\n",
       "  <tbody>\n",
       "    <tr>\n",
       "      <th>0</th>\n",
       "      <td>1</td>\n",
       "      <td>546</td>\n",
       "      <td>'Salem's Lot</td>\n",
       "      <td>594</td>\n",
       "      <td>2005-11-01</td>\n",
       "      <td>93</td>\n",
       "    </tr>\n",
       "    <tr>\n",
       "      <th>1</th>\n",
       "      <td>2</td>\n",
       "      <td>465</td>\n",
       "      <td>1 000 Places to See Before You Die</td>\n",
       "      <td>992</td>\n",
       "      <td>2003-05-22</td>\n",
       "      <td>336</td>\n",
       "    </tr>\n",
       "    <tr>\n",
       "      <th>2</th>\n",
       "      <td>3</td>\n",
       "      <td>407</td>\n",
       "      <td>13 Little Blue Envelopes (Little Blue Envelope...</td>\n",
       "      <td>322</td>\n",
       "      <td>2010-12-21</td>\n",
       "      <td>135</td>\n",
       "    </tr>\n",
       "    <tr>\n",
       "      <th>3</th>\n",
       "      <td>4</td>\n",
       "      <td>82</td>\n",
       "      <td>1491: New Revelations of the Americas Before C...</td>\n",
       "      <td>541</td>\n",
       "      <td>2006-10-10</td>\n",
       "      <td>309</td>\n",
       "    </tr>\n",
       "    <tr>\n",
       "      <th>4</th>\n",
       "      <td>5</td>\n",
       "      <td>125</td>\n",
       "      <td>1776</td>\n",
       "      <td>386</td>\n",
       "      <td>2006-07-04</td>\n",
       "      <td>268</td>\n",
       "    </tr>\n",
       "  </tbody>\n",
       "</table>\n",
       "</div>"
      ],
      "text/plain": [
       "   book_id  author_id                                              title  \\\n",
       "0        1        546                                       'Salem's Lot   \n",
       "1        2        465                 1 000 Places to See Before You Die   \n",
       "2        3        407  13 Little Blue Envelopes (Little Blue Envelope...   \n",
       "3        4         82  1491: New Revelations of the Americas Before C...   \n",
       "4        5        125                                               1776   \n",
       "\n",
       "   num_pages publication_date  publisher_id  \n",
       "0        594       2005-11-01            93  \n",
       "1        992       2003-05-22           336  \n",
       "2        322       2010-12-21           135  \n",
       "3        541       2006-10-10           309  \n",
       "4        386       2006-07-04           268  "
      ]
     },
     "metadata": {},
     "output_type": "display_data"
    },
    {
     "name": "stdout",
     "output_type": "stream",
     "text": [
      "<class 'pandas.core.frame.DataFrame'>\n",
      "RangeIndex: 1000 entries, 0 to 999\n",
      "Data columns (total 6 columns):\n",
      " #   Column            Non-Null Count  Dtype \n",
      "---  ------            --------------  ----- \n",
      " 0   book_id           1000 non-null   int64 \n",
      " 1   author_id         1000 non-null   int64 \n",
      " 2   title             1000 non-null   object\n",
      " 3   num_pages         1000 non-null   int64 \n",
      " 4   publication_date  1000 non-null   object\n",
      " 5   publisher_id      1000 non-null   int64 \n",
      "dtypes: int64(4), object(2)\n",
      "memory usage: 47.0+ KB\n",
      "Количество дубликатов: 0\n",
      "Количество Пропусков в столбцах:\n",
      " book_id             0\n",
      "author_id           0\n",
      "title               0\n",
      "num_pages           0\n",
      "publication_date    0\n",
      "publisher_id        0\n",
      "dtype: int64\n"
     ]
    }
   ],
   "source": [
    "information(books)"
   ]
  },
  {
   "cell_type": "code",
   "execution_count": 11,
   "metadata": {},
   "outputs": [
    {
     "data": {
      "text/html": [
       "<div>\n",
       "<style scoped>\n",
       "    .dataframe tbody tr th:only-of-type {\n",
       "        vertical-align: middle;\n",
       "    }\n",
       "\n",
       "    .dataframe tbody tr th {\n",
       "        vertical-align: top;\n",
       "    }\n",
       "\n",
       "    .dataframe thead th {\n",
       "        text-align: right;\n",
       "    }\n",
       "</style>\n",
       "<table border=\"1\" class=\"dataframe\">\n",
       "  <thead>\n",
       "    <tr style=\"text-align: right;\">\n",
       "      <th></th>\n",
       "      <th>author_id</th>\n",
       "      <th>author</th>\n",
       "    </tr>\n",
       "  </thead>\n",
       "  <tbody>\n",
       "    <tr>\n",
       "      <th>0</th>\n",
       "      <td>1</td>\n",
       "      <td>A.S. Byatt</td>\n",
       "    </tr>\n",
       "    <tr>\n",
       "      <th>1</th>\n",
       "      <td>2</td>\n",
       "      <td>Aesop/Laura Harris/Laura Gibbs</td>\n",
       "    </tr>\n",
       "    <tr>\n",
       "      <th>2</th>\n",
       "      <td>3</td>\n",
       "      <td>Agatha Christie</td>\n",
       "    </tr>\n",
       "    <tr>\n",
       "      <th>3</th>\n",
       "      <td>4</td>\n",
       "      <td>Alan Brennert</td>\n",
       "    </tr>\n",
       "    <tr>\n",
       "      <th>4</th>\n",
       "      <td>5</td>\n",
       "      <td>Alan Moore/David   Lloyd</td>\n",
       "    </tr>\n",
       "  </tbody>\n",
       "</table>\n",
       "</div>"
      ],
      "text/plain": [
       "   author_id                          author\n",
       "0          1                      A.S. Byatt\n",
       "1          2  Aesop/Laura Harris/Laura Gibbs\n",
       "2          3                 Agatha Christie\n",
       "3          4                   Alan Brennert\n",
       "4          5        Alan Moore/David   Lloyd"
      ]
     },
     "metadata": {},
     "output_type": "display_data"
    },
    {
     "name": "stdout",
     "output_type": "stream",
     "text": [
      "<class 'pandas.core.frame.DataFrame'>\n",
      "RangeIndex: 636 entries, 0 to 635\n",
      "Data columns (total 2 columns):\n",
      " #   Column     Non-Null Count  Dtype \n",
      "---  ------     --------------  ----- \n",
      " 0   author_id  636 non-null    int64 \n",
      " 1   author     636 non-null    object\n",
      "dtypes: int64(1), object(1)\n",
      "memory usage: 10.1+ KB\n",
      "Количество дубликатов: 0\n",
      "Количество Пропусков в столбцах:\n",
      " author_id    0\n",
      "author       0\n",
      "dtype: int64\n"
     ]
    }
   ],
   "source": [
    "information(authors)"
   ]
  },
  {
   "cell_type": "code",
   "execution_count": 12,
   "metadata": {},
   "outputs": [
    {
     "data": {
      "text/html": [
       "<div>\n",
       "<style scoped>\n",
       "    .dataframe tbody tr th:only-of-type {\n",
       "        vertical-align: middle;\n",
       "    }\n",
       "\n",
       "    .dataframe tbody tr th {\n",
       "        vertical-align: top;\n",
       "    }\n",
       "\n",
       "    .dataframe thead th {\n",
       "        text-align: right;\n",
       "    }\n",
       "</style>\n",
       "<table border=\"1\" class=\"dataframe\">\n",
       "  <thead>\n",
       "    <tr style=\"text-align: right;\">\n",
       "      <th></th>\n",
       "      <th>publisher_id</th>\n",
       "      <th>publisher</th>\n",
       "    </tr>\n",
       "  </thead>\n",
       "  <tbody>\n",
       "    <tr>\n",
       "      <th>0</th>\n",
       "      <td>1</td>\n",
       "      <td>Ace</td>\n",
       "    </tr>\n",
       "    <tr>\n",
       "      <th>1</th>\n",
       "      <td>2</td>\n",
       "      <td>Ace Book</td>\n",
       "    </tr>\n",
       "    <tr>\n",
       "      <th>2</th>\n",
       "      <td>3</td>\n",
       "      <td>Ace Books</td>\n",
       "    </tr>\n",
       "    <tr>\n",
       "      <th>3</th>\n",
       "      <td>4</td>\n",
       "      <td>Ace Hardcover</td>\n",
       "    </tr>\n",
       "    <tr>\n",
       "      <th>4</th>\n",
       "      <td>5</td>\n",
       "      <td>Addison Wesley Publishing Company</td>\n",
       "    </tr>\n",
       "  </tbody>\n",
       "</table>\n",
       "</div>"
      ],
      "text/plain": [
       "   publisher_id                          publisher\n",
       "0             1                                Ace\n",
       "1             2                           Ace Book\n",
       "2             3                          Ace Books\n",
       "3             4                      Ace Hardcover\n",
       "4             5  Addison Wesley Publishing Company"
      ]
     },
     "metadata": {},
     "output_type": "display_data"
    },
    {
     "name": "stdout",
     "output_type": "stream",
     "text": [
      "<class 'pandas.core.frame.DataFrame'>\n",
      "RangeIndex: 340 entries, 0 to 339\n",
      "Data columns (total 2 columns):\n",
      " #   Column        Non-Null Count  Dtype \n",
      "---  ------        --------------  ----- \n",
      " 0   publisher_id  340 non-null    int64 \n",
      " 1   publisher     340 non-null    object\n",
      "dtypes: int64(1), object(1)\n",
      "memory usage: 5.4+ KB\n",
      "Количество дубликатов: 0\n",
      "Количество Пропусков в столбцах:\n",
      " publisher_id    0\n",
      "publisher       0\n",
      "dtype: int64\n"
     ]
    }
   ],
   "source": [
    "information(publishers)"
   ]
  },
  {
   "cell_type": "code",
   "execution_count": 13,
   "metadata": {},
   "outputs": [
    {
     "data": {
      "text/html": [
       "<div>\n",
       "<style scoped>\n",
       "    .dataframe tbody tr th:only-of-type {\n",
       "        vertical-align: middle;\n",
       "    }\n",
       "\n",
       "    .dataframe tbody tr th {\n",
       "        vertical-align: top;\n",
       "    }\n",
       "\n",
       "    .dataframe thead th {\n",
       "        text-align: right;\n",
       "    }\n",
       "</style>\n",
       "<table border=\"1\" class=\"dataframe\">\n",
       "  <thead>\n",
       "    <tr style=\"text-align: right;\">\n",
       "      <th></th>\n",
       "      <th>rating_id</th>\n",
       "      <th>book_id</th>\n",
       "      <th>username</th>\n",
       "      <th>rating</th>\n",
       "    </tr>\n",
       "  </thead>\n",
       "  <tbody>\n",
       "    <tr>\n",
       "      <th>0</th>\n",
       "      <td>1</td>\n",
       "      <td>1</td>\n",
       "      <td>ryanfranco</td>\n",
       "      <td>4</td>\n",
       "    </tr>\n",
       "    <tr>\n",
       "      <th>1</th>\n",
       "      <td>2</td>\n",
       "      <td>1</td>\n",
       "      <td>grantpatricia</td>\n",
       "      <td>2</td>\n",
       "    </tr>\n",
       "    <tr>\n",
       "      <th>2</th>\n",
       "      <td>3</td>\n",
       "      <td>1</td>\n",
       "      <td>brandtandrea</td>\n",
       "      <td>5</td>\n",
       "    </tr>\n",
       "    <tr>\n",
       "      <th>3</th>\n",
       "      <td>4</td>\n",
       "      <td>2</td>\n",
       "      <td>lorichen</td>\n",
       "      <td>3</td>\n",
       "    </tr>\n",
       "    <tr>\n",
       "      <th>4</th>\n",
       "      <td>5</td>\n",
       "      <td>2</td>\n",
       "      <td>mariokeller</td>\n",
       "      <td>2</td>\n",
       "    </tr>\n",
       "  </tbody>\n",
       "</table>\n",
       "</div>"
      ],
      "text/plain": [
       "   rating_id  book_id       username  rating\n",
       "0          1        1     ryanfranco       4\n",
       "1          2        1  grantpatricia       2\n",
       "2          3        1   brandtandrea       5\n",
       "3          4        2       lorichen       3\n",
       "4          5        2    mariokeller       2"
      ]
     },
     "metadata": {},
     "output_type": "display_data"
    },
    {
     "name": "stdout",
     "output_type": "stream",
     "text": [
      "<class 'pandas.core.frame.DataFrame'>\n",
      "RangeIndex: 6456 entries, 0 to 6455\n",
      "Data columns (total 4 columns):\n",
      " #   Column     Non-Null Count  Dtype \n",
      "---  ------     --------------  ----- \n",
      " 0   rating_id  6456 non-null   int64 \n",
      " 1   book_id    6456 non-null   int64 \n",
      " 2   username   6456 non-null   object\n",
      " 3   rating     6456 non-null   int64 \n",
      "dtypes: int64(3), object(1)\n",
      "memory usage: 201.9+ KB\n",
      "Количество дубликатов: 0\n",
      "Количество Пропусков в столбцах:\n",
      " rating_id    0\n",
      "book_id      0\n",
      "username     0\n",
      "rating       0\n",
      "dtype: int64\n"
     ]
    }
   ],
   "source": [
    "information(ratings)"
   ]
  },
  {
   "cell_type": "code",
   "execution_count": 14,
   "metadata": {},
   "outputs": [
    {
     "data": {
      "text/html": [
       "<div>\n",
       "<style scoped>\n",
       "    .dataframe tbody tr th:only-of-type {\n",
       "        vertical-align: middle;\n",
       "    }\n",
       "\n",
       "    .dataframe tbody tr th {\n",
       "        vertical-align: top;\n",
       "    }\n",
       "\n",
       "    .dataframe thead th {\n",
       "        text-align: right;\n",
       "    }\n",
       "</style>\n",
       "<table border=\"1\" class=\"dataframe\">\n",
       "  <thead>\n",
       "    <tr style=\"text-align: right;\">\n",
       "      <th></th>\n",
       "      <th>review_id</th>\n",
       "      <th>book_id</th>\n",
       "      <th>username</th>\n",
       "      <th>text</th>\n",
       "    </tr>\n",
       "  </thead>\n",
       "  <tbody>\n",
       "    <tr>\n",
       "      <th>0</th>\n",
       "      <td>1</td>\n",
       "      <td>1</td>\n",
       "      <td>brandtandrea</td>\n",
       "      <td>Mention society tell send professor analysis. ...</td>\n",
       "    </tr>\n",
       "    <tr>\n",
       "      <th>1</th>\n",
       "      <td>2</td>\n",
       "      <td>1</td>\n",
       "      <td>ryanfranco</td>\n",
       "      <td>Foot glass pretty audience hit themselves. Amo...</td>\n",
       "    </tr>\n",
       "    <tr>\n",
       "      <th>2</th>\n",
       "      <td>3</td>\n",
       "      <td>2</td>\n",
       "      <td>lorichen</td>\n",
       "      <td>Listen treat keep worry. Miss husband tax but ...</td>\n",
       "    </tr>\n",
       "    <tr>\n",
       "      <th>3</th>\n",
       "      <td>4</td>\n",
       "      <td>3</td>\n",
       "      <td>johnsonamanda</td>\n",
       "      <td>Finally month interesting blue could nature cu...</td>\n",
       "    </tr>\n",
       "    <tr>\n",
       "      <th>4</th>\n",
       "      <td>5</td>\n",
       "      <td>3</td>\n",
       "      <td>scotttamara</td>\n",
       "      <td>Nation purpose heavy give wait song will. List...</td>\n",
       "    </tr>\n",
       "  </tbody>\n",
       "</table>\n",
       "</div>"
      ],
      "text/plain": [
       "   review_id  book_id       username  \\\n",
       "0          1        1   brandtandrea   \n",
       "1          2        1     ryanfranco   \n",
       "2          3        2       lorichen   \n",
       "3          4        3  johnsonamanda   \n",
       "4          5        3    scotttamara   \n",
       "\n",
       "                                                text  \n",
       "0  Mention society tell send professor analysis. ...  \n",
       "1  Foot glass pretty audience hit themselves. Amo...  \n",
       "2  Listen treat keep worry. Miss husband tax but ...  \n",
       "3  Finally month interesting blue could nature cu...  \n",
       "4  Nation purpose heavy give wait song will. List...  "
      ]
     },
     "metadata": {},
     "output_type": "display_data"
    },
    {
     "name": "stdout",
     "output_type": "stream",
     "text": [
      "<class 'pandas.core.frame.DataFrame'>\n",
      "RangeIndex: 2793 entries, 0 to 2792\n",
      "Data columns (total 4 columns):\n",
      " #   Column     Non-Null Count  Dtype \n",
      "---  ------     --------------  ----- \n",
      " 0   review_id  2793 non-null   int64 \n",
      " 1   book_id    2793 non-null   int64 \n",
      " 2   username   2793 non-null   object\n",
      " 3   text       2793 non-null   object\n",
      "dtypes: int64(2), object(2)\n",
      "memory usage: 87.4+ KB\n",
      "Количество дубликатов: 0\n",
      "Количество Пропусков в столбцах:\n",
      " review_id    0\n",
      "book_id      0\n",
      "username     0\n",
      "text         0\n",
      "dtype: int64\n"
     ]
    }
   ],
   "source": [
    "information(reviews)"
   ]
  },
  {
   "cell_type": "markdown",
   "metadata": {},
   "source": [
    "**Промежуточный вывод:** <br>\n",
    "На данные мы посмотрели, пропусков и дубликатов нигде не обнаружили. Можно сказать, что таблицы соответствуют заявленной схеме."
   ]
  },
  {
   "cell_type": "markdown",
   "metadata": {},
   "source": [
    "## Исследовательский анализ данных\n",
    "### Посчитаем сколько книг вышло после 1 января 2000 года"
   ]
  },
  {
   "cell_type": "code",
   "execution_count": 15,
   "metadata": {},
   "outputs": [
    {
     "data": {
      "text/html": [
       "<div>\n",
       "<style scoped>\n",
       "    .dataframe tbody tr th:only-of-type {\n",
       "        vertical-align: middle;\n",
       "    }\n",
       "\n",
       "    .dataframe tbody tr th {\n",
       "        vertical-align: top;\n",
       "    }\n",
       "\n",
       "    .dataframe thead th {\n",
       "        text-align: right;\n",
       "    }\n",
       "</style>\n",
       "<table border=\"1\" class=\"dataframe\">\n",
       "  <thead>\n",
       "    <tr style=\"text-align: right;\">\n",
       "      <th></th>\n",
       "      <th>cnt_books</th>\n",
       "    </tr>\n",
       "  </thead>\n",
       "  <tbody>\n",
       "    <tr>\n",
       "      <th>0</th>\n",
       "      <td>819</td>\n",
       "    </tr>\n",
       "  </tbody>\n",
       "</table>\n",
       "</div>"
      ],
      "text/plain": [
       "   cnt_books\n",
       "0        819"
      ]
     },
     "execution_count": 15,
     "metadata": {},
     "output_type": "execute_result"
    }
   ],
   "source": [
    "print_books = '''\n",
    "SELECT \n",
    "    COUNT(*) AS cnt_books\n",
    "FROM \n",
    "    books\n",
    "WHERE \n",
    "    publication_date > '2000-01-01';\n",
    "'''\n",
    "select(print_books)"
   ]
  },
  {
   "cell_type": "markdown",
   "metadata": {},
   "source": [
    "Согласно нашим данным, после 1 января 2000 года вышло 819 книжных экземпляров"
   ]
  },
  {
   "cell_type": "markdown",
   "metadata": {},
   "source": [
    "### Для каждой книги посчитаем количество обзоров и среднюю оценку"
   ]
  },
  {
   "cell_type": "code",
   "execution_count": 16,
   "metadata": {},
   "outputs": [
    {
     "data": {
      "text/html": [
       "<div>\n",
       "<style scoped>\n",
       "    .dataframe tbody tr th:only-of-type {\n",
       "        vertical-align: middle;\n",
       "    }\n",
       "\n",
       "    .dataframe tbody tr th {\n",
       "        vertical-align: top;\n",
       "    }\n",
       "\n",
       "    .dataframe thead th {\n",
       "        text-align: right;\n",
       "    }\n",
       "</style>\n",
       "<table border=\"1\" class=\"dataframe\">\n",
       "  <thead>\n",
       "    <tr style=\"text-align: right;\">\n",
       "      <th></th>\n",
       "      <th>book_id</th>\n",
       "      <th>title</th>\n",
       "      <th>count</th>\n",
       "      <th>avg</th>\n",
       "    </tr>\n",
       "  </thead>\n",
       "  <tbody>\n",
       "    <tr>\n",
       "      <th>0</th>\n",
       "      <td>948</td>\n",
       "      <td>Twilight (Twilight  #1)</td>\n",
       "      <td>7</td>\n",
       "      <td>3.66</td>\n",
       "    </tr>\n",
       "    <tr>\n",
       "      <th>1</th>\n",
       "      <td>963</td>\n",
       "      <td>Water for Elephants</td>\n",
       "      <td>6</td>\n",
       "      <td>3.98</td>\n",
       "    </tr>\n",
       "    <tr>\n",
       "      <th>2</th>\n",
       "      <td>734</td>\n",
       "      <td>The Glass Castle</td>\n",
       "      <td>6</td>\n",
       "      <td>4.21</td>\n",
       "    </tr>\n",
       "    <tr>\n",
       "      <th>3</th>\n",
       "      <td>302</td>\n",
       "      <td>Harry Potter and the Prisoner of Azkaban (Harr...</td>\n",
       "      <td>6</td>\n",
       "      <td>4.41</td>\n",
       "    </tr>\n",
       "    <tr>\n",
       "      <th>4</th>\n",
       "      <td>695</td>\n",
       "      <td>The Curious Incident of the Dog in the Night-Time</td>\n",
       "      <td>6</td>\n",
       "      <td>4.08</td>\n",
       "    </tr>\n",
       "    <tr>\n",
       "      <th>...</th>\n",
       "      <td>...</td>\n",
       "      <td>...</td>\n",
       "      <td>...</td>\n",
       "      <td>...</td>\n",
       "    </tr>\n",
       "    <tr>\n",
       "      <th>995</th>\n",
       "      <td>83</td>\n",
       "      <td>Anne Rice's The Vampire Lestat: A Graphic Novel</td>\n",
       "      <td>0</td>\n",
       "      <td>3.67</td>\n",
       "    </tr>\n",
       "    <tr>\n",
       "      <th>996</th>\n",
       "      <td>808</td>\n",
       "      <td>The Natural Way to Draw</td>\n",
       "      <td>0</td>\n",
       "      <td>3.00</td>\n",
       "    </tr>\n",
       "    <tr>\n",
       "      <th>997</th>\n",
       "      <td>672</td>\n",
       "      <td>The Cat in the Hat and Other Dr. Seuss Favorites</td>\n",
       "      <td>0</td>\n",
       "      <td>5.00</td>\n",
       "    </tr>\n",
       "    <tr>\n",
       "      <th>998</th>\n",
       "      <td>221</td>\n",
       "      <td>Essential Tales and Poems</td>\n",
       "      <td>0</td>\n",
       "      <td>4.00</td>\n",
       "    </tr>\n",
       "    <tr>\n",
       "      <th>999</th>\n",
       "      <td>191</td>\n",
       "      <td>Disney's Beauty and the Beast (A Little Golden...</td>\n",
       "      <td>0</td>\n",
       "      <td>4.00</td>\n",
       "    </tr>\n",
       "  </tbody>\n",
       "</table>\n",
       "<p>1000 rows × 4 columns</p>\n",
       "</div>"
      ],
      "text/plain": [
       "     book_id                                              title  count   avg\n",
       "0        948                            Twilight (Twilight  #1)      7  3.66\n",
       "1        963                                Water for Elephants      6  3.98\n",
       "2        734                                   The Glass Castle      6  4.21\n",
       "3        302  Harry Potter and the Prisoner of Azkaban (Harr...      6  4.41\n",
       "4        695  The Curious Incident of the Dog in the Night-Time      6  4.08\n",
       "..       ...                                                ...    ...   ...\n",
       "995       83    Anne Rice's The Vampire Lestat: A Graphic Novel      0  3.67\n",
       "996      808                            The Natural Way to Draw      0  3.00\n",
       "997      672   The Cat in the Hat and Other Dr. Seuss Favorites      0  5.00\n",
       "998      221                          Essential Tales and Poems      0  4.00\n",
       "999      191  Disney's Beauty and the Beast (A Little Golden...      0  4.00\n",
       "\n",
       "[1000 rows x 4 columns]"
      ]
     },
     "execution_count": 16,
     "metadata": {},
     "output_type": "execute_result"
    }
   ],
   "source": [
    "ratings = '''\n",
    "SELECT \n",
    "  books.book_id, \n",
    "  title, \n",
    "  COUNT(DISTINCT review_id) AS count, \n",
    "  ROUND(\n",
    "    AVG(rating), \n",
    "    2\n",
    "  ) AS avg \n",
    "FROM \n",
    "  books \n",
    "  LEFT JOIN ratings ON books.book_id = ratings.book_id \n",
    "  LEFT JOIN reviews ON books.book_id = reviews.book_id \n",
    "GROUP BY \n",
    "  books.book_id, \n",
    "  title \n",
    "ORDER BY \n",
    "  count DESC\n",
    "'''\n",
    "\n",
    "select(ratings)"
   ]
  },
  {
   "cell_type": "markdown",
   "metadata": {},
   "source": [
    "Самая обозреваемая книга Twilight (Twilight #1) Самая плохая оценка (1.5) у книги Harvesting the Heart. Можно заметить у некоторых книг, что люди проставили оценку, но не написали обзор. Это плохо, можно специально занижать рейтинг."
   ]
  },
  {
   "cell_type": "markdown",
   "metadata": {},
   "source": [
    "### Определим издательство, которое выпустило наибольшее число книг толще 50 страниц\n",
    "Таким образом мы исключим из анализа брошюры"
   ]
  },
  {
   "cell_type": "code",
   "execution_count": 17,
   "metadata": {},
   "outputs": [
    {
     "data": {
      "text/html": [
       "<div>\n",
       "<style scoped>\n",
       "    .dataframe tbody tr th:only-of-type {\n",
       "        vertical-align: middle;\n",
       "    }\n",
       "\n",
       "    .dataframe tbody tr th {\n",
       "        vertical-align: top;\n",
       "    }\n",
       "\n",
       "    .dataframe thead th {\n",
       "        text-align: right;\n",
       "    }\n",
       "</style>\n",
       "<table border=\"1\" class=\"dataframe\">\n",
       "  <thead>\n",
       "    <tr style=\"text-align: right;\">\n",
       "      <th></th>\n",
       "      <th>publ</th>\n",
       "      <th>count</th>\n",
       "    </tr>\n",
       "  </thead>\n",
       "  <tbody>\n",
       "    <tr>\n",
       "      <th>0</th>\n",
       "      <td>Penguin Books</td>\n",
       "      <td>42</td>\n",
       "    </tr>\n",
       "    <tr>\n",
       "      <th>1</th>\n",
       "      <td>Vintage</td>\n",
       "      <td>31</td>\n",
       "    </tr>\n",
       "    <tr>\n",
       "      <th>2</th>\n",
       "      <td>Grand Central Publishing</td>\n",
       "      <td>25</td>\n",
       "    </tr>\n",
       "    <tr>\n",
       "      <th>3</th>\n",
       "      <td>Penguin Classics</td>\n",
       "      <td>24</td>\n",
       "    </tr>\n",
       "    <tr>\n",
       "      <th>4</th>\n",
       "      <td>Ballantine Books</td>\n",
       "      <td>19</td>\n",
       "    </tr>\n",
       "    <tr>\n",
       "      <th>...</th>\n",
       "      <td>...</td>\n",
       "      <td>...</td>\n",
       "    </tr>\n",
       "    <tr>\n",
       "      <th>329</th>\n",
       "      <td>Turtleback</td>\n",
       "      <td>1</td>\n",
       "    </tr>\n",
       "    <tr>\n",
       "      <th>330</th>\n",
       "      <td>Atheneum Books for Young Readers: Richard Jack...</td>\n",
       "      <td>1</td>\n",
       "    </tr>\n",
       "    <tr>\n",
       "      <th>331</th>\n",
       "      <td>Penguin Signet</td>\n",
       "      <td>1</td>\n",
       "    </tr>\n",
       "    <tr>\n",
       "      <th>332</th>\n",
       "      <td>Victor Gollancz</td>\n",
       "      <td>1</td>\n",
       "    </tr>\n",
       "    <tr>\n",
       "      <th>333</th>\n",
       "      <td>Harvard Business Review Press</td>\n",
       "      <td>1</td>\n",
       "    </tr>\n",
       "  </tbody>\n",
       "</table>\n",
       "<p>334 rows × 2 columns</p>\n",
       "</div>"
      ],
      "text/plain": [
       "                                                  publ  count\n",
       "0                                        Penguin Books     42\n",
       "1                                              Vintage     31\n",
       "2                             Grand Central Publishing     25\n",
       "3                                     Penguin Classics     24\n",
       "4                                     Ballantine Books     19\n",
       "..                                                 ...    ...\n",
       "329                                         Turtleback      1\n",
       "330  Atheneum Books for Young Readers: Richard Jack...      1\n",
       "331                                     Penguin Signet      1\n",
       "332                                    Victor Gollancz      1\n",
       "333                      Harvard Business Review Press      1\n",
       "\n",
       "[334 rows x 2 columns]"
      ]
     },
     "execution_count": 17,
     "metadata": {},
     "output_type": "execute_result"
    }
   ],
   "source": [
    "book_publisher = '''\n",
    "SELECT \n",
    "  publishers.publisher AS publ, \n",
    "  COUNT(books.book_id) AS count \n",
    "FROM \n",
    "  publishers FULL \n",
    "  OUTER JOIN books ON books.publisher_id = publishers.publisher_id \n",
    "WHERE \n",
    "  books.num_pages > 50 \n",
    "GROUP BY \n",
    "  publ \n",
    "ORDER BY \n",
    "  count DESC\n",
    "'''\n",
    "select(book_publisher)"
   ]
  },
  {
   "cell_type": "code",
   "execution_count": 18,
   "metadata": {},
   "outputs": [
    {
     "data": {
      "text/html": [
       "<div>\n",
       "<style scoped>\n",
       "    .dataframe tbody tr th:only-of-type {\n",
       "        vertical-align: middle;\n",
       "    }\n",
       "\n",
       "    .dataframe tbody tr th {\n",
       "        vertical-align: top;\n",
       "    }\n",
       "\n",
       "    .dataframe thead th {\n",
       "        text-align: right;\n",
       "    }\n",
       "</style>\n",
       "<table border=\"1\" class=\"dataframe\">\n",
       "  <thead>\n",
       "    <tr style=\"text-align: right;\">\n",
       "      <th></th>\n",
       "      <th>publ</th>\n",
       "      <th>count</th>\n",
       "    </tr>\n",
       "  </thead>\n",
       "  <tbody>\n",
       "    <tr>\n",
       "      <th>0</th>\n",
       "      <td>Penguin Books</td>\n",
       "      <td>42</td>\n",
       "    </tr>\n",
       "  </tbody>\n",
       "</table>\n",
       "</div>"
      ],
      "text/plain": [
       "            publ  count\n",
       "0  Penguin Books     42"
      ]
     },
     "execution_count": 18,
     "metadata": {},
     "output_type": "execute_result"
    }
   ],
   "source": [
    "book_publisher = '''\n",
    "SELECT\n",
    "  publishers.publisher AS publ, \n",
    "  COUNT(books.book_id) AS count \n",
    "FROM \n",
    "  publishers FULL \n",
    "  OUTER JOIN books ON books.publisher_id = publishers.publisher_id \n",
    "WHERE \n",
    "  books.num_pages > 50 \n",
    "GROUP BY \n",
    "  publ \n",
    "ORDER BY \n",
    "  count DESC \n",
    "LIMIT \n",
    "  1\n",
    "'''\n",
    "select(book_publisher)"
   ]
  },
  {
   "cell_type": "markdown",
   "metadata": {},
   "source": [
    "Penguin Books оказалось самым работоспособным издательством, которое выпустило 42 книги.<br>\n",
    "<br>\n",
    "\n",
    "Дополнительно можем выделить ТОП-5 издательств по выпущенным книгам: \n",
    "1. Penguin Books - 42 книги\n",
    "1. Vintage -\t31 книга\n",
    "1. Grand Central Publishing -\t25 книг\n",
    "1. Penguin Classics\t- 24 книги\n",
    "1. Ballantine Books -\t19 книг"
   ]
  },
  {
   "cell_type": "markdown",
   "metadata": {},
   "source": [
    "### Определим автора с самой высокой средней оценкой книг \n",
    "\n",
    "Будем учитывать только книги с 50 и более оценками"
   ]
  },
  {
   "cell_type": "code",
   "execution_count": 19,
   "metadata": {},
   "outputs": [
    {
     "data": {
      "text/html": [
       "<div>\n",
       "<style scoped>\n",
       "    .dataframe tbody tr th:only-of-type {\n",
       "        vertical-align: middle;\n",
       "    }\n",
       "\n",
       "    .dataframe tbody tr th {\n",
       "        vertical-align: top;\n",
       "    }\n",
       "\n",
       "    .dataframe thead th {\n",
       "        text-align: right;\n",
       "    }\n",
       "</style>\n",
       "<table border=\"1\" class=\"dataframe\">\n",
       "  <thead>\n",
       "    <tr style=\"text-align: right;\">\n",
       "      <th></th>\n",
       "      <th>author</th>\n",
       "      <th>avg_rating</th>\n",
       "    </tr>\n",
       "  </thead>\n",
       "  <tbody>\n",
       "    <tr>\n",
       "      <th>0</th>\n",
       "      <td>J.K. Rowling/Mary GrandPré</td>\n",
       "      <td>4.2838</td>\n",
       "    </tr>\n",
       "  </tbody>\n",
       "</table>\n",
       "</div>"
      ],
      "text/plain": [
       "                       author  avg_rating\n",
       "0  J.K. Rowling/Mary GrandPré      4.2838"
      ]
     },
     "execution_count": 19,
     "metadata": {},
     "output_type": "execute_result"
    }
   ],
   "source": [
    "author_rating_var = '''\n",
    "WITH i AS (\n",
    "  SELECT \n",
    "    authors.author, \n",
    "    books.book_id, \n",
    "    AVG(ratings.rating) AS avg_rating \n",
    "  FROM \n",
    "    authors FULL \n",
    "    JOIN books ON books.author_id = authors.author_id FULL \n",
    "    JOIN ratings ON ratings.book_id = books.book_id \n",
    "  GROUP BY \n",
    "    author, \n",
    "    books.book_id \n",
    "  HAVING \n",
    "    COUNT(ratings.rating) >= 50\n",
    ") \n",
    "SELECT \n",
    "  i.author, \n",
    "  ROUND(\n",
    "    AVG(i.avg_rating), \n",
    "    4\n",
    "  ) AS avg_rating \n",
    "FROM \n",
    "  i \n",
    "GROUP BY \n",
    "  author \n",
    "ORDER BY \n",
    "  avg_rating DESC \n",
    "LIMIT \n",
    "  1;\n",
    "'''\n",
    "select(author_rating_var)"
   ]
  },
  {
   "cell_type": "markdown",
   "metadata": {},
   "source": [
    "Джоан Роулинг известная по книгам Гарри Поттера возгавляет ТОП с рейтингом в 4.28."
   ]
  },
  {
   "cell_type": "code",
   "execution_count": 20,
   "metadata": {},
   "outputs": [
    {
     "data": {
      "text/html": [
       "<div>\n",
       "<style scoped>\n",
       "    .dataframe tbody tr th:only-of-type {\n",
       "        vertical-align: middle;\n",
       "    }\n",
       "\n",
       "    .dataframe tbody tr th {\n",
       "        vertical-align: top;\n",
       "    }\n",
       "\n",
       "    .dataframe thead th {\n",
       "        text-align: right;\n",
       "    }\n",
       "</style>\n",
       "<table border=\"1\" class=\"dataframe\">\n",
       "  <thead>\n",
       "    <tr style=\"text-align: right;\">\n",
       "      <th></th>\n",
       "      <th>author</th>\n",
       "      <th>round</th>\n",
       "    </tr>\n",
       "  </thead>\n",
       "  <tbody>\n",
       "    <tr>\n",
       "      <th>0</th>\n",
       "      <td>J.K. Rowling/Mary GrandPré</td>\n",
       "      <td>4.2871</td>\n",
       "    </tr>\n",
       "  </tbody>\n",
       "</table>\n",
       "</div>"
      ],
      "text/plain": [
       "                       author   round\n",
       "0  J.K. Rowling/Mary GrandPré  4.2871"
      ]
     },
     "execution_count": 20,
     "metadata": {},
     "output_type": "execute_result"
    }
   ],
   "source": [
    "#По тз нужно добавить 2 варианта с HAVING и без\n",
    "author_rating_var2 = '''\n",
    "WITH i AS (\n",
    "  WITH temp AS (\n",
    "    SELECT \n",
    "      b.book_id, \n",
    "      b.author_id, \n",
    "      aut.author, \n",
    "      rat.rating, \n",
    "      COUNT (rating) over (partition BY b.book_id) AS count \n",
    "    FROM \n",
    "      books AS b \n",
    "      RIGHT join ratings AS rat on rat.book_id = b.book_id \n",
    "      RIGHT join author AS aut on aut.author_id = b.author_id\n",
    "  ) \n",
    "  SELECT \n",
    "    * \n",
    "  FROM \n",
    "    temp \n",
    "  WHERE \n",
    "    count > 50\n",
    ") \n",
    "SELECT \n",
    "  author, \n",
    "  ROUND(\n",
    "    AVG(rating), \n",
    "    4\n",
    "  ) \n",
    "FROM \n",
    "  i \n",
    "GROUP BY \n",
    "  author \n",
    "ORDER BY \n",
    "  avg(rating) DESC \n",
    "LIMIT \n",
    "  1;\n",
    "'''\n",
    "select(author_rating_var2)"
   ]
  },
  {
   "cell_type": "markdown",
   "metadata": {},
   "source": [
    "В принципе лидером осталась Джоан Роулинг - J.K. Rowling/Mary GrandPré с рейтингом 4.2871"
   ]
  },
  {
   "cell_type": "markdown",
   "metadata": {},
   "source": [
    "### Посчитаем среднее количество обзоров от пользователей, которые поставили больше 48 оценок."
   ]
  },
  {
   "cell_type": "code",
   "execution_count": 21,
   "metadata": {},
   "outputs": [
    {
     "data": {
      "text/html": [
       "<div>\n",
       "<style scoped>\n",
       "    .dataframe tbody tr th:only-of-type {\n",
       "        vertical-align: middle;\n",
       "    }\n",
       "\n",
       "    .dataframe tbody tr th {\n",
       "        vertical-align: top;\n",
       "    }\n",
       "\n",
       "    .dataframe thead th {\n",
       "        text-align: right;\n",
       "    }\n",
       "</style>\n",
       "<table border=\"1\" class=\"dataframe\">\n",
       "  <thead>\n",
       "    <tr style=\"text-align: right;\">\n",
       "      <th></th>\n",
       "      <th>round</th>\n",
       "    </tr>\n",
       "  </thead>\n",
       "  <tbody>\n",
       "    <tr>\n",
       "      <th>0</th>\n",
       "      <td>24.0</td>\n",
       "    </tr>\n",
       "  </tbody>\n",
       "</table>\n",
       "</div>"
      ],
      "text/plain": [
       "   round\n",
       "0   24.0"
      ]
     },
     "execution_count": 21,
     "metadata": {},
     "output_type": "execute_result"
    }
   ],
   "source": [
    "avg_rev = '''\n",
    "SELECT \n",
    "  ROUND(\n",
    "    AVG(a.count), \n",
    "    2\n",
    "  ) \n",
    "FROM \n",
    "  (\n",
    "    SELECT \n",
    "      username, \n",
    "      COUNT(review_id) AS count \n",
    "    FROM \n",
    "      reviews \n",
    "    WHERE \n",
    "      username IN (\n",
    "        SELECT \n",
    "          username \n",
    "        FROM \n",
    "          ratings \n",
    "        GROUP BY \n",
    "          username \n",
    "        HAVING \n",
    "          COUNT(rating_id) > 48\n",
    "      ) \n",
    "    GROUP BY \n",
    "      username\n",
    "  ) AS a;\n",
    "'''\n",
    "select(avg_rev)"
   ]
  },
  {
   "cell_type": "markdown",
   "metadata": {},
   "source": [
    "Итого, пользователи,которые ставят 48 оценок, на половину из них пишут рецензию. А именно на 24 книги"
   ]
  },
  {
   "cell_type": "markdown",
   "metadata": {},
   "source": [
    "## Итоговый вывод:\n",
    "- Пропусков и дубликатов в таблицах найдено не было. \n",
    "- Можно сказать, что таблицы соответствуют заявленной схеме\n",
    "- Согласно нашим данным, после 1 января 2000 года вышло 819 книжных экземпляров\n",
    "- Penguin Books оказалось самым работоспособным издательством, которое выпустило 42 книги.\n",
    "- Cреднее количество обзоров от пользователей, которые поставили больше 48 оценок, составило 24.\n",
    "- Автор с самой высокой средней оценкой книг - Джоан Роулинг(J.K. Rowling/Mary GrandPré) с оценкой 4.28<br><br><br>\n",
    "\n",
    "*Дополнительно:*\n",
    "- Самая обозреваемая книга Twilight (Twilight #1) Самая плохая оценка (1.5) у книги Harvesting the Heart. Можно заметить у некоторых книг, что люди проставили оценку, но не написали обзор. Это плохо, можно таким образом специально занижать рейтинг.\n",
    "- Можем выделить ТОП-5 издательств по выпущенным книгам: <br>\n",
    "    1. Penguin Books - 42 книги\n",
    "    1. Vintage -\t31 книга\n",
    "    1. Grand Central Publishing -\t25 книг\n",
    "    1. Penguin Classics\t- 24 книги\n",
    "    1. Ballantine Books -\t19 книг"
   ]
  }
 ],
 "metadata": {
  "ExecuteTimeLog": [
   {
    "duration": 548,
    "start_time": "2023-08-12T15:29:08.438Z"
   },
   {
    "duration": 11734,
    "start_time": "2023-08-12T15:29:19.709Z"
   },
   {
    "duration": 4,
    "start_time": "2023-08-12T15:29:44.293Z"
   },
   {
    "duration": 7,
    "start_time": "2023-08-12T15:29:50.173Z"
   },
   {
    "duration": 101,
    "start_time": "2023-08-12T15:30:00.043Z"
   },
   {
    "duration": 2,
    "start_time": "2023-08-12T15:30:46.461Z"
   },
   {
    "duration": 2,
    "start_time": "2023-08-12T15:30:46.557Z"
   },
   {
    "duration": 3,
    "start_time": "2023-08-12T15:30:46.702Z"
   },
   {
    "duration": 2,
    "start_time": "2023-08-12T15:30:46.863Z"
   },
   {
    "duration": 47,
    "start_time": "2023-08-12T15:30:47.102Z"
   },
   {
    "duration": 36,
    "start_time": "2023-08-12T15:30:47.717Z"
   },
   {
    "duration": 34,
    "start_time": "2023-08-12T15:30:47.807Z"
   },
   {
    "duration": 167,
    "start_time": "2023-08-12T15:30:47.980Z"
   },
   {
    "duration": 86,
    "start_time": "2023-08-12T15:30:57.951Z"
   },
   {
    "duration": 14,
    "start_time": "2023-08-12T15:32:06.501Z"
   },
   {
    "duration": 11,
    "start_time": "2023-08-12T15:32:13.053Z"
   },
   {
    "duration": 213,
    "start_time": "2023-08-12T15:32:52.509Z"
   },
   {
    "duration": 43,
    "start_time": "2023-08-12T15:33:07.870Z"
   },
   {
    "duration": 17,
    "start_time": "2023-08-12T15:33:21.397Z"
   },
   {
    "duration": 2,
    "start_time": "2023-08-12T15:33:30.515Z"
   },
   {
    "duration": 3,
    "start_time": "2023-08-12T15:33:47.915Z"
   },
   {
    "duration": 14,
    "start_time": "2023-08-12T15:33:58.731Z"
   },
   {
    "duration": 531,
    "start_time": "2023-08-12T15:36:09.704Z"
   },
   {
    "duration": 10036,
    "start_time": "2023-08-12T15:36:10.238Z"
   },
   {
    "duration": 3,
    "start_time": "2023-08-12T15:36:20.279Z"
   },
   {
    "duration": 10,
    "start_time": "2023-08-12T15:36:20.285Z"
   },
   {
    "duration": 68,
    "start_time": "2023-08-12T15:36:20.298Z"
   },
   {
    "duration": 3,
    "start_time": "2023-08-12T15:36:20.368Z"
   },
   {
    "duration": 12,
    "start_time": "2023-08-12T15:36:20.373Z"
   },
   {
    "duration": 9,
    "start_time": "2023-08-12T15:36:20.386Z"
   },
   {
    "duration": 22,
    "start_time": "2023-08-12T15:36:20.398Z"
   },
   {
    "duration": 101,
    "start_time": "2023-08-12T15:36:20.423Z"
   },
   {
    "duration": 44,
    "start_time": "2023-08-12T15:36:20.526Z"
   },
   {
    "duration": 47,
    "start_time": "2023-08-12T15:36:20.572Z"
   },
   {
    "duration": 149,
    "start_time": "2023-08-12T15:36:20.620Z"
   },
   {
    "duration": 74,
    "start_time": "2023-08-12T15:36:20.771Z"
   },
   {
    "duration": 9,
    "start_time": "2023-08-12T15:36:20.847Z"
   },
   {
    "duration": 32,
    "start_time": "2023-08-12T15:36:20.857Z"
   },
   {
    "duration": 17,
    "start_time": "2023-08-12T15:36:20.891Z"
   },
   {
    "duration": 11,
    "start_time": "2023-08-12T15:36:20.909Z"
   },
   {
    "duration": 15,
    "start_time": "2023-08-12T15:36:20.922Z"
   },
   {
    "duration": 2,
    "start_time": "2023-08-12T15:36:20.939Z"
   },
   {
    "duration": 48,
    "start_time": "2023-08-12T15:36:20.942Z"
   },
   {
    "duration": 11,
    "start_time": "2023-08-12T15:38:01.807Z"
   },
   {
    "duration": 18,
    "start_time": "2023-08-12T15:43:07.191Z"
   },
   {
    "duration": 496,
    "start_time": "2023-08-12T15:45:43.215Z"
   },
   {
    "duration": 10695,
    "start_time": "2023-08-12T15:45:43.713Z"
   },
   {
    "duration": 4,
    "start_time": "2023-08-12T15:45:54.410Z"
   },
   {
    "duration": 16,
    "start_time": "2023-08-12T15:45:54.416Z"
   },
   {
    "duration": 85,
    "start_time": "2023-08-12T15:45:54.435Z"
   },
   {
    "duration": 2,
    "start_time": "2023-08-12T15:45:54.522Z"
   },
   {
    "duration": 15,
    "start_time": "2023-08-12T15:45:54.525Z"
   },
   {
    "duration": 11,
    "start_time": "2023-08-12T15:45:54.542Z"
   },
   {
    "duration": 30,
    "start_time": "2023-08-12T15:45:54.555Z"
   },
   {
    "duration": 56,
    "start_time": "2023-08-12T15:45:54.588Z"
   },
   {
    "duration": 43,
    "start_time": "2023-08-12T15:45:54.645Z"
   },
   {
    "duration": 30,
    "start_time": "2023-08-12T15:45:54.690Z"
   },
   {
    "duration": 142,
    "start_time": "2023-08-12T15:45:54.722Z"
   },
   {
    "duration": 86,
    "start_time": "2023-08-12T15:45:54.865Z"
   },
   {
    "duration": 13,
    "start_time": "2023-08-12T15:45:54.952Z"
   },
   {
    "duration": 59,
    "start_time": "2023-08-12T15:45:54.967Z"
   },
   {
    "duration": 15,
    "start_time": "2023-08-12T15:45:55.028Z"
   },
   {
    "duration": 18,
    "start_time": "2023-08-12T15:45:55.045Z"
   },
   {
    "duration": 37,
    "start_time": "2023-08-12T15:45:55.064Z"
   },
   {
    "duration": 3,
    "start_time": "2023-08-12T15:45:55.103Z"
   },
   {
    "duration": 22,
    "start_time": "2023-08-12T15:45:55.108Z"
   },
   {
    "duration": 28,
    "start_time": "2023-08-12T15:49:01.816Z"
   },
   {
    "duration": 15,
    "start_time": "2023-08-12T15:49:02.800Z"
   },
   {
    "duration": 12,
    "start_time": "2023-08-12T15:49:02.987Z"
   },
   {
    "duration": 16,
    "start_time": "2023-08-12T15:49:03.491Z"
   },
   {
    "duration": 3,
    "start_time": "2023-08-12T15:49:03.656Z"
   },
   {
    "duration": 553,
    "start_time": "2023-08-12T15:49:07.261Z"
   },
   {
    "duration": 10077,
    "start_time": "2023-08-12T15:49:07.816Z"
   },
   {
    "duration": 2,
    "start_time": "2023-08-12T15:49:17.895Z"
   },
   {
    "duration": 6,
    "start_time": "2023-08-12T15:49:17.899Z"
   },
   {
    "duration": 37,
    "start_time": "2023-08-12T15:49:17.906Z"
   },
   {
    "duration": 2,
    "start_time": "2023-08-12T15:49:17.944Z"
   },
   {
    "duration": 9,
    "start_time": "2023-08-12T15:49:17.948Z"
   },
   {
    "duration": 4,
    "start_time": "2023-08-12T15:49:17.959Z"
   },
   {
    "duration": 4,
    "start_time": "2023-08-12T15:49:17.964Z"
   },
   {
    "duration": 65,
    "start_time": "2023-08-12T15:49:17.970Z"
   },
   {
    "duration": 35,
    "start_time": "2023-08-12T15:49:18.036Z"
   },
   {
    "duration": 41,
    "start_time": "2023-08-12T15:49:18.073Z"
   },
   {
    "duration": 122,
    "start_time": "2023-08-12T15:49:18.115Z"
   },
   {
    "duration": 78,
    "start_time": "2023-08-12T15:49:18.239Z"
   },
   {
    "duration": 10,
    "start_time": "2023-08-12T15:49:18.319Z"
   },
   {
    "duration": 33,
    "start_time": "2023-08-12T15:49:18.330Z"
   },
   {
    "duration": 23,
    "start_time": "2023-08-12T15:49:18.365Z"
   },
   {
    "duration": 11,
    "start_time": "2023-08-12T15:49:18.390Z"
   },
   {
    "duration": 13,
    "start_time": "2023-08-12T15:49:18.403Z"
   },
   {
    "duration": 2,
    "start_time": "2023-08-12T15:49:18.418Z"
   },
   {
    "duration": 17,
    "start_time": "2023-08-12T15:49:18.421Z"
   },
   {
    "duration": 222,
    "start_time": "2023-08-12T15:51:03.998Z"
   },
   {
    "duration": 22,
    "start_time": "2023-08-12T15:51:59.044Z"
   },
   {
    "duration": 16,
    "start_time": "2023-08-12T15:53:55.397Z"
   },
   {
    "duration": 17,
    "start_time": "2023-08-12T15:54:49.346Z"
   },
   {
    "duration": 20,
    "start_time": "2023-08-12T15:54:51.147Z"
   },
   {
    "duration": 20,
    "start_time": "2023-08-12T15:54:54.167Z"
   },
   {
    "duration": 21,
    "start_time": "2023-08-12T15:56:50.813Z"
   },
   {
    "duration": 77,
    "start_time": "2023-08-12T15:56:51.339Z"
   },
   {
    "duration": 22,
    "start_time": "2023-08-12T15:58:27.301Z"
   },
   {
    "duration": 13,
    "start_time": "2023-08-12T16:01:47.739Z"
   },
   {
    "duration": 496,
    "start_time": "2023-08-12T16:01:51.297Z"
   },
   {
    "duration": 9961,
    "start_time": "2023-08-12T16:01:51.795Z"
   },
   {
    "duration": 3,
    "start_time": "2023-08-12T16:02:01.757Z"
   },
   {
    "duration": 28,
    "start_time": "2023-08-12T16:02:01.761Z"
   },
   {
    "duration": 77,
    "start_time": "2023-08-12T16:02:01.791Z"
   },
   {
    "duration": 2,
    "start_time": "2023-08-12T16:02:01.870Z"
   },
   {
    "duration": 24,
    "start_time": "2023-08-12T16:02:01.875Z"
   },
   {
    "duration": 38,
    "start_time": "2023-08-12T16:02:01.901Z"
   },
   {
    "duration": 39,
    "start_time": "2023-08-12T16:02:01.942Z"
   },
   {
    "duration": 79,
    "start_time": "2023-08-12T16:02:01.984Z"
   },
   {
    "duration": 81,
    "start_time": "2023-08-12T16:02:02.065Z"
   },
   {
    "duration": 47,
    "start_time": "2023-08-12T16:02:02.148Z"
   },
   {
    "duration": 136,
    "start_time": "2023-08-12T16:02:02.197Z"
   },
   {
    "duration": 74,
    "start_time": "2023-08-12T16:02:02.335Z"
   },
   {
    "duration": 9,
    "start_time": "2023-08-12T16:02:02.410Z"
   },
   {
    "duration": 41,
    "start_time": "2023-08-12T16:02:02.421Z"
   },
   {
    "duration": 15,
    "start_time": "2023-08-12T16:02:02.464Z"
   },
   {
    "duration": 19,
    "start_time": "2023-08-12T16:02:02.481Z"
   },
   {
    "duration": 18,
    "start_time": "2023-08-12T16:02:02.502Z"
   },
   {
    "duration": 20,
    "start_time": "2023-08-12T16:02:02.521Z"
   },
   {
    "duration": 12,
    "start_time": "2023-08-12T16:02:02.543Z"
   },
   {
    "duration": 102,
    "start_time": "2023-08-12T16:04:03.199Z"
   },
   {
    "duration": 9927,
    "start_time": "2023-08-12T16:04:03.304Z"
   },
   {
    "duration": 4,
    "start_time": "2023-08-12T16:04:13.232Z"
   },
   {
    "duration": 10,
    "start_time": "2023-08-12T16:04:13.238Z"
   },
   {
    "duration": 51,
    "start_time": "2023-08-12T16:04:13.251Z"
   },
   {
    "duration": 0,
    "start_time": "2023-08-12T16:04:13.304Z"
   },
   {
    "duration": 0,
    "start_time": "2023-08-12T16:04:13.305Z"
   },
   {
    "duration": 0,
    "start_time": "2023-08-12T16:04:13.307Z"
   },
   {
    "duration": 0,
    "start_time": "2023-08-12T16:04:13.309Z"
   },
   {
    "duration": 0,
    "start_time": "2023-08-12T16:04:13.310Z"
   },
   {
    "duration": 0,
    "start_time": "2023-08-12T16:04:13.312Z"
   },
   {
    "duration": 0,
    "start_time": "2023-08-12T16:04:13.313Z"
   },
   {
    "duration": 0,
    "start_time": "2023-08-12T16:04:13.314Z"
   },
   {
    "duration": 0,
    "start_time": "2023-08-12T16:04:13.316Z"
   },
   {
    "duration": 0,
    "start_time": "2023-08-12T16:04:13.317Z"
   },
   {
    "duration": 0,
    "start_time": "2023-08-12T16:04:13.318Z"
   },
   {
    "duration": 0,
    "start_time": "2023-08-12T16:04:13.320Z"
   },
   {
    "duration": 0,
    "start_time": "2023-08-12T16:04:13.321Z"
   },
   {
    "duration": 1,
    "start_time": "2023-08-12T16:04:13.322Z"
   },
   {
    "duration": 0,
    "start_time": "2023-08-12T16:04:13.324Z"
   },
   {
    "duration": 0,
    "start_time": "2023-08-12T16:04:13.325Z"
   },
   {
    "duration": 582,
    "start_time": "2023-08-12T16:04:23.357Z"
   },
   {
    "duration": 10054,
    "start_time": "2023-08-12T16:04:23.941Z"
   },
   {
    "duration": 3,
    "start_time": "2023-08-12T16:04:33.997Z"
   },
   {
    "duration": 6,
    "start_time": "2023-08-12T16:04:34.001Z"
   },
   {
    "duration": 89,
    "start_time": "2023-08-12T16:04:34.009Z"
   },
   {
    "duration": 3,
    "start_time": "2023-08-12T16:04:34.100Z"
   },
   {
    "duration": 3,
    "start_time": "2023-08-12T16:04:34.106Z"
   },
   {
    "duration": 14,
    "start_time": "2023-08-12T16:04:34.111Z"
   },
   {
    "duration": 2,
    "start_time": "2023-08-12T16:04:34.127Z"
   },
   {
    "duration": 94,
    "start_time": "2023-08-12T16:04:34.131Z"
   },
   {
    "duration": 34,
    "start_time": "2023-08-12T16:04:34.227Z"
   },
   {
    "duration": 37,
    "start_time": "2023-08-12T16:04:34.263Z"
   },
   {
    "duration": 134,
    "start_time": "2023-08-12T16:04:34.302Z"
   },
   {
    "duration": 74,
    "start_time": "2023-08-12T16:04:34.438Z"
   },
   {
    "duration": 10,
    "start_time": "2023-08-12T16:04:34.514Z"
   },
   {
    "duration": 29,
    "start_time": "2023-08-12T16:04:34.525Z"
   },
   {
    "duration": 14,
    "start_time": "2023-08-12T16:04:34.555Z"
   },
   {
    "duration": 24,
    "start_time": "2023-08-12T16:04:34.570Z"
   },
   {
    "duration": 17,
    "start_time": "2023-08-12T16:04:34.595Z"
   },
   {
    "duration": 21,
    "start_time": "2023-08-12T16:04:34.613Z"
   },
   {
    "duration": 12,
    "start_time": "2023-08-12T16:04:34.635Z"
   },
   {
    "duration": 31,
    "start_time": "2023-08-12T16:05:36.365Z"
   },
   {
    "duration": 21,
    "start_time": "2023-08-12T16:07:22.514Z"
   },
   {
    "duration": 22,
    "start_time": "2023-08-12T16:07:27.191Z"
   },
   {
    "duration": 22,
    "start_time": "2023-08-12T16:09:36.472Z"
   },
   {
    "duration": 13,
    "start_time": "2023-08-12T16:09:49.045Z"
   },
   {
    "duration": 11,
    "start_time": "2023-08-12T16:10:02.296Z"
   },
   {
    "duration": 22,
    "start_time": "2023-08-12T16:10:58.306Z"
   },
   {
    "duration": 489,
    "start_time": "2023-08-12T16:11:03.095Z"
   },
   {
    "duration": 9437,
    "start_time": "2023-08-12T16:11:03.586Z"
   },
   {
    "duration": 3,
    "start_time": "2023-08-12T16:11:13.025Z"
   },
   {
    "duration": 22,
    "start_time": "2023-08-12T16:11:13.030Z"
   },
   {
    "duration": 62,
    "start_time": "2023-08-12T16:11:13.054Z"
   },
   {
    "duration": 3,
    "start_time": "2023-08-12T16:11:13.118Z"
   },
   {
    "duration": 9,
    "start_time": "2023-08-12T16:11:13.123Z"
   },
   {
    "duration": 7,
    "start_time": "2023-08-12T16:11:13.134Z"
   },
   {
    "duration": 10,
    "start_time": "2023-08-12T16:11:13.143Z"
   },
   {
    "duration": 56,
    "start_time": "2023-08-12T16:11:13.155Z"
   },
   {
    "duration": 31,
    "start_time": "2023-08-12T16:11:13.213Z"
   },
   {
    "duration": 34,
    "start_time": "2023-08-12T16:11:13.245Z"
   },
   {
    "duration": 123,
    "start_time": "2023-08-12T16:11:13.281Z"
   },
   {
    "duration": 64,
    "start_time": "2023-08-12T16:11:13.407Z"
   },
   {
    "duration": 9,
    "start_time": "2023-08-12T16:11:13.473Z"
   },
   {
    "duration": 38,
    "start_time": "2023-08-12T16:11:13.484Z"
   },
   {
    "duration": 15,
    "start_time": "2023-08-12T16:11:13.524Z"
   },
   {
    "duration": 13,
    "start_time": "2023-08-12T16:11:13.540Z"
   },
   {
    "duration": 21,
    "start_time": "2023-08-12T16:11:13.554Z"
   },
   {
    "duration": 21,
    "start_time": "2023-08-12T16:11:13.577Z"
   },
   {
    "duration": 14,
    "start_time": "2023-08-12T16:11:13.600Z"
   }
  ],
  "kernelspec": {
   "display_name": "Python 3 (ipykernel)",
   "language": "python",
   "name": "python3"
  },
  "language_info": {
   "codemirror_mode": {
    "name": "ipython",
    "version": 3
   },
   "file_extension": ".py",
   "mimetype": "text/x-python",
   "name": "python",
   "nbconvert_exporter": "python",
   "pygments_lexer": "ipython3",
   "version": "3.10.9"
  },
  "toc": {
   "base_numbering": 1,
   "nav_menu": {},
   "number_sections": true,
   "sideBar": true,
   "skip_h1_title": true,
   "title_cell": "Table of Contents",
   "title_sidebar": "Contents",
   "toc_cell": false,
   "toc_position": {},
   "toc_section_display": true,
   "toc_window_display": false
  }
 },
 "nbformat": 4,
 "nbformat_minor": 2
}
